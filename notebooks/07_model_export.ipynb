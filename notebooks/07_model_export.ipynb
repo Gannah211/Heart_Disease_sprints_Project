{
 "cells": [
  {
   "cell_type": "code",
   "execution_count": 2,
   "id": "c2b3eac9",
   "metadata": {},
   "outputs": [
    {
     "name": "stdout",
     "output_type": "stream",
     "text": [
      "AUC: 0.9398148148148149\n",
      "Best threshold: 0.51\n",
      "Report @0.5\n",
      "               precision    recall  f1-score   support\n",
      "\n",
      "           0       0.91      0.89      0.90        36\n",
      "           1       0.84      0.88      0.86        24\n",
      "\n",
      "    accuracy                           0.88        60\n",
      "   macro avg       0.88      0.88      0.88        60\n",
      "weighted avg       0.88      0.88      0.88        60\n",
      "\n",
      "Report @best\n",
      "               precision    recall  f1-score   support\n",
      "\n",
      "           0       0.91      0.89      0.90        36\n",
      "           1       0.84      0.88      0.86        24\n",
      "\n",
      "    accuracy                           0.88        60\n",
      "   macro avg       0.88      0.88      0.88        60\n",
      "weighted avg       0.88      0.88      0.88        60\n",
      "\n",
      "Confusion @best\n",
      " [[32  4]\n",
      " [ 3 21]]\n",
      "Model saved as final_modal.pkl & model_meta.json\n"
     ]
    }
   ],
   "source": [
    "import pandas as pd \n",
    "import json\n",
    "import numpy as np\n",
    "import joblib\n",
    "from sklearn.ensemble import RandomForestClassifier\n",
    "from sklearn.model_selection import train_test_split\n",
    "from sklearn.preprocessing import StandardScaler \n",
    "from sklearn.pipeline import Pipeline \n",
    "from sklearn.metrics import roc_curve, roc_auc_score, classification_report, confusion_matrix\n",
    "\n",
    "\n",
    "df = pd.read_csv(\"../data/heart_disease.csv\")\n",
    "x =df.drop('num',axis =1)\n",
    "y = df['num']\n",
    "\n",
    "x_train, x_test, y_train, y_test = train_test_split(x, y, test_size=0.2, random_state=42)\n",
    "\n",
    "pipeline = Pipeline([\n",
    "    ('scaler', StandardScaler()),\n",
    "    ('model', RandomForestClassifier(n_estimators=100, random_state=42, class_weight='balanced'))\n",
    "])\n",
    "\n",
    "pipeline.fit(x_train,y_train)\n",
    "\n",
    "y_proba =pipeline.predict_proba(x_test)[:,1]\n",
    "auc = roc_auc_score(y_test, y_proba)\n",
    "fpr,tpr,thresholds = roc_curve(y_test, y_proba)\n",
    "\n",
    "ix = np.argmax(tpr - fpr)\n",
    "best_thresh = float(thresholds[ix])\n",
    "\n",
    "\n",
    "print(\"AUC:\", auc)\n",
    "print(\"Best threshold:\", best_thresh)\n",
    "print(\"Report @0.5\\n\", classification_report(y_test, (y_proba>=0.5).astype(int)))\n",
    "print(\"Report @best\\n\", classification_report(y_test, (y_proba>=best_thresh).astype(int)))\n",
    "print(\"Confusion @best\\n\", confusion_matrix(y_test, (y_proba>=best_thresh).astype(int)))\n",
    "\n",
    "joblib.dump(pipeline,\"../models/final_model.pkl\")\n",
    "with open(\"model_meta.json\", \"w\") as f:\n",
    "    json.dump({\"threshold\": best_thresh, \"features\": list(x.columns)}, f)\n",
    "print(\"Model saved as final_modal.pkl & model_meta.json\")"
   ]
  }
 ],
 "metadata": {
  "kernelspec": {
   "display_name": "Python 3",
   "language": "python",
   "name": "python3"
  },
  "language_info": {
   "codemirror_mode": {
    "name": "ipython",
    "version": 3
   },
   "file_extension": ".py",
   "mimetype": "text/x-python",
   "name": "python",
   "nbconvert_exporter": "python",
   "pygments_lexer": "ipython3",
   "version": "3.12.1"
  }
 },
 "nbformat": 4,
 "nbformat_minor": 5
}

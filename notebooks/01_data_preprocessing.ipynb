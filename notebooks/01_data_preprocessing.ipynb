{
 "cells": [
  {
   "cell_type": "code",
   "execution_count": 97,
   "id": "2b8f1c4e",
   "metadata": {},
   "outputs": [],
   "source": [
    "from ucimlrepo import fetch_ucirepo\n",
    "import pandas as pd\n",
    "\n",
    "heart_disease =fetch_ucirepo(id=45)\n",
    "\n",
    "x = heart_disease.data.features\n",
    "y = heart_disease.data.targets\n",
    "\n",
    "df = pd.concat([x, y], axis =1)\n",
    "df.to_csv(\"data/heart_disease.csv\", index =False)\n"
   ]
  },
  {
   "cell_type": "code",
   "execution_count": 6,
   "id": "aba528d0",
   "metadata": {},
   "outputs": [
    {
     "name": "stdout",
     "output_type": "stream",
     "text": [
      "<class 'pandas.core.frame.DataFrame'>\n",
      "RangeIndex: 297 entries, 0 to 296\n",
      "Data columns (total 14 columns):\n",
      " #   Column    Non-Null Count  Dtype  \n",
      "---  ------    --------------  -----  \n",
      " 0   age       297 non-null    int64  \n",
      " 1   sex       297 non-null    int64  \n",
      " 2   cp        297 non-null    int64  \n",
      " 3   trestbps  297 non-null    int64  \n",
      " 4   chol      297 non-null    int64  \n",
      " 5   fbs       297 non-null    int64  \n",
      " 6   restecg   297 non-null    int64  \n",
      " 7   thalach   297 non-null    int64  \n",
      " 8   exang     297 non-null    int64  \n",
      " 9   oldpeak   297 non-null    float64\n",
      " 10  slope     297 non-null    int64  \n",
      " 11  ca        297 non-null    float64\n",
      " 12  thal      297 non-null    float64\n",
      " 13  num       297 non-null    int64  \n",
      "dtypes: float64(3), int64(11)\n",
      "memory usage: 32.6 KB\n",
      "before deleting (297, 14)\n",
      "After deleting (297, 14)\n",
      "num\n",
      "0    160\n",
      "1    137\n",
      "Name: count, dtype: int64\n"
     ]
    }
   ],
   "source": [
    "import pandas as pd\n",
    "from sklearn.preprocessing import StandardScaler\n",
    "\n",
    "\n",
    "df = pd.read_csv(\"../data/heart_disease.csv\")\n",
    "df.info()\n",
    "df.isnull().sum()\n",
    "print(\"before deleting\", df.shape)\n",
    "df.dropna(inplace=True)\n",
    "print(\"After deleting\" , df.shape)\n",
    "df.to_csv(\"../data/heart_disease.csv\", index=False)\n",
    "\n",
    "\n",
    "\n",
    "\n",
    "df['num']= (df[\"num\"] >0).astype(int)\n",
    "df.to_csv(\"../data/heart_disease.csv\", index=False)\n",
    "print(df['num'].value_counts())"
   ]
  },
  {
   "cell_type": "code",
   "execution_count": 62,
   "id": "18d783cb",
   "metadata": {},
   "outputs": [],
   "source": [
    "import matplotlib.pyplot as plt\n",
    "import pandas as pd\n",
    "import seaborn as sns\n",
    "\n",
    "df = pd.read_csv(\"data/heart_disease.csv\")\n",
    "plt.figure(figsize =(6,4))\n",
    "sns.histplot(df['age'],bins =20, kde =True)\n",
    "plt.title(\"Age Distribution\")\n",
    "plt.savefig(\"results/age_distribution.png\")\n",
    "plt.close()\n",
    "\n",
    "plt.boxplot(df['age'])\n",
    "plt.title(\"Age outliers\")\n",
    "plt.ylabel(\"Age\")\n",
    "plt.savefig(\"results/age_outliers.png\")\n",
    "plt.close()"
   ]
  },
  {
   "cell_type": "code",
   "execution_count": 64,
   "id": "b26d4bfb",
   "metadata": {},
   "outputs": [],
   "source": [
    "import matplotlib.pyplot as plt\n",
    "import pandas as pd\n",
    "import seaborn as sns\n",
    "\n",
    "df = pd.read_csv(\"data/heart_disease.csv\")\n",
    "plt.figure(figsize =(6,4))\n",
    "sns.histplot(df['trestbps'],bins =20, kde =True)\n",
    "plt.title(\"trestbps Distribution\")\n",
    "plt.savefig(\"results/trestbps_distribution.png\")\n",
    "plt.close()\n",
    "\n",
    "plt.boxplot(df['trestbps'])\n",
    "plt.title(\"trestbps outliers\")\n",
    "plt.ylabel(\"trestbps\")\n",
    "plt.savefig(\"results/trestbps_outliers.png\")\n",
    "plt.close()\n"
   ]
  },
  {
   "cell_type": "code",
   "execution_count": 66,
   "id": "02ad7475",
   "metadata": {},
   "outputs": [],
   "source": [
    "import matplotlib.pyplot as plt\n",
    "import pandas as pd\n",
    "import seaborn as sns\n",
    "\n",
    "df = pd.read_csv(\"data/heart_disease.csv\")\n",
    "plt.figure(figsize =(6,4))\n",
    "sns.histplot(df['chol'],bins =20, kde =True)\n",
    "plt.title(\"chol Distribution\")\n",
    "plt.savefig(\"results/chol_distribution.png\")\n",
    "plt.close()\n",
    "\n",
    "plt.boxplot(df['chol'])\n",
    "plt.title(\"chol outliers\")\n",
    "plt.ylabel(\"chol\")\n",
    "plt.savefig(\"results/chol_outliers.png\")\n",
    "plt.close()\n"
   ]
  },
  {
   "cell_type": "code",
   "execution_count": 68,
   "id": "0093b1ce",
   "metadata": {},
   "outputs": [],
   "source": [
    "import matplotlib.pyplot as plt\n",
    "import pandas as pd\n",
    "import seaborn as sns\n",
    "\n",
    "df = pd.read_csv(\"data/heart_disease.csv\")\n",
    "plt.figure(figsize =(6,4))\n",
    "sns.histplot(df['thalach'],bins =20, kde =True)\n",
    "plt.title(\"thalach Distribution\")\n",
    "plt.savefig(\"results/thalach_distribution.png\")\n",
    "plt.close()\n",
    "\n",
    "plt.boxplot(df['thalach'])\n",
    "plt.title(\"thalach outliers\")\n",
    "plt.ylabel(\"thalach\")\n",
    "plt.savefig(\"results/thalach_outliers.png\")\n",
    "plt.close()\n"
   ]
  },
  {
   "cell_type": "code",
   "execution_count": 70,
   "id": "d4aecdca",
   "metadata": {},
   "outputs": [],
   "source": [
    "import matplotlib.pyplot as plt\n",
    "import pandas as pd\n",
    "import seaborn as sns\n",
    "\n",
    "df = pd.read_csv(\"data/heart_disease.csv\")\n",
    "plt.figure(figsize =(6,4))\n",
    "sns.histplot(df['oldpeak'],bins =20, kde =True)\n",
    "plt.title(\"oldpeak Distribution\")\n",
    "plt.savefig(\"results/oldpeak_distribution.png\")\n",
    "plt.close()\n",
    "\n",
    "plt.boxplot(df['oldpeak'])\n",
    "plt.title(\"oldpeak outliers\")\n",
    "plt.ylabel(\"oldpeak\")\n",
    "plt.savefig(\"results/oldpeak_outliers.png\")\n",
    "plt.close()"
   ]
  },
  {
   "cell_type": "code",
   "execution_count": null,
   "id": "e6d6fa31",
   "metadata": {},
   "outputs": [],
   "source": [
    "import matplotlib.pyplot as plt\n",
    "import pandas as pd\n",
    "import seaborn as sns\n",
    "\n",
    "df = pd.read_csv(\"data/heart_disease.csv\")\n",
    "sns.countplot(x='sex', data=df)\n",
    "plt.xticks([0, 1], ['Female', 'Male'])\n",
    "plt.savefig(\"results/sex_count.png\")\n",
    "plt.close()"
   ]
  },
  {
   "cell_type": "code",
   "execution_count": 78,
   "id": "27c82da7",
   "metadata": {},
   "outputs": [],
   "source": [
    "import matplotlib.pyplot as plt\n",
    "import pandas as pd\n",
    "import seaborn as sns\n",
    "\n",
    "df = pd.read_csv(\"data/heart_disease.csv\")\n",
    "sns.countplot(x='cp', data=df)\n",
    "plt.savefig(\"results/cp_count.png\")\n",
    "plt.close()"
   ]
  },
  {
   "cell_type": "code",
   "execution_count": 83,
   "id": "38af4d83",
   "metadata": {},
   "outputs": [],
   "source": [
    "import matplotlib.pyplot as plt\n",
    "import pandas as pd\n",
    "import seaborn as sns\n",
    "\n",
    "df = pd.read_csv(\"data/heart_disease.csv\")\n",
    "sns.countplot(x='fbs', data=df)\n",
    "plt.xticks([0, 1], ['No', 'Yes'])\n",
    "plt.savefig(\"results/fbs_count.png\")\n",
    "plt.close()"
   ]
  },
  {
   "cell_type": "code",
   "execution_count": 84,
   "id": "5b7f2173",
   "metadata": {},
   "outputs": [],
   "source": [
    "import matplotlib.pyplot as plt\n",
    "import pandas as pd\n",
    "import seaborn as sns\n",
    "\n",
    "df = pd.read_csv(\"data/heart_disease.csv\")\n",
    "sns.countplot(x='restecg', data=df)\n",
    "plt.savefig(\"results/restecg_count.png\")\n",
    "plt.close()"
   ]
  },
  {
   "cell_type": "code",
   "execution_count": 87,
   "id": "bb011b70",
   "metadata": {},
   "outputs": [],
   "source": [
    "import matplotlib.pyplot as plt\n",
    "import pandas as pd\n",
    "import seaborn as sns\n",
    "\n",
    "df = pd.read_csv(\"data/heart_disease.csv\")\n",
    "sns.countplot(x='exang', data=df)\n",
    "plt.xticks([0, 1], ['No', 'Yes'])\n",
    "plt.savefig(\"results/exang_count.png\")\n",
    "plt.close()"
   ]
  },
  {
   "cell_type": "code",
   "execution_count": 88,
   "id": "7e7e2fe6",
   "metadata": {},
   "outputs": [],
   "source": [
    "import matplotlib.pyplot as plt\n",
    "import pandas as pd\n",
    "import seaborn as sns\n",
    "\n",
    "df = pd.read_csv(\"data/heart_disease.csv\")\n",
    "sns.countplot(x='slope', data=df)\n",
    "plt.savefig(\"results/slope_count.png\")\n",
    "plt.close()"
   ]
  },
  {
   "cell_type": "code",
   "execution_count": 91,
   "id": "f791616a",
   "metadata": {},
   "outputs": [],
   "source": [
    "import matplotlib.pyplot as plt\n",
    "import pandas as pd\n",
    "import seaborn as sns\n",
    "\n",
    "df = pd.read_csv(\"data/heart_disease.csv\")\n",
    "sns.countplot(x='ca', data=df)\n",
    "plt.savefig(\"results/ca_count.png\")\n",
    "plt.close()"
   ]
  },
  {
   "cell_type": "code",
   "execution_count": 92,
   "id": "f802b0b4",
   "metadata": {},
   "outputs": [],
   "source": [
    "import matplotlib.pyplot as plt\n",
    "import pandas as pd\n",
    "import seaborn as sns\n",
    "\n",
    "df = pd.read_csv(\"data/heart_disease.csv\")\n",
    "sns.countplot(x='thal', data=df)\n",
    "plt.savefig(\"results/thal_count.png\")\n",
    "plt.close()"
   ]
  },
  {
   "cell_type": "code",
   "execution_count": 94,
   "id": "cc965eae",
   "metadata": {},
   "outputs": [],
   "source": [
    "import matplotlib.pyplot as plt\n",
    "import pandas as pd\n",
    "import seaborn as sns\n",
    "\n",
    "df = pd.read_csv(\"data/heart_disease.csv\")\n",
    "sns.countplot(x='num', data=df)\n",
    "plt.savefig(\"results/num_count.png\")\n",
    "plt.close()"
   ]
  },
  {
   "cell_type": "code",
   "execution_count": 96,
   "id": "a2391b52",
   "metadata": {},
   "outputs": [
    {
     "data": {
      "image/png": "[encoded data removed]",
      "text/plain": [
       "<Figure size 640x480 with 2 Axes>"
      ]
     },
     "metadata": {},
     "output_type": "display_data"
    }
   ],
   "source": [
    "import matplotlib.pyplot as plt\n",
    "import pandas as pd\n",
    "import seaborn as sns\n",
    "\n",
    "df = pd.read_csv(\"data/heart_disease.csv\")\n",
    "sns.heatmap(df.head(50))\n",
    "plt.savefig(\"results/heatmap.png\")\n",
    "plt.show()"
   ]
  }
 ],
 "metadata": {
  "kernelspec": {
   "display_name": "Python 3",
   "language": "python",
   "name": "python3"
  },
  "language_info": {
   "codemirror_mode": {
    "name": "ipython",
    "version": 3
   },
   "file_extension": ".py",
   "mimetype": "text/x-python",
   "name": "python",
   "nbconvert_exporter": "python",
   "pygments_lexer": "ipython3",
   "version": "3.12.1"
  }
 },
 "nbformat": 4,
 "nbformat_minor": 5
}

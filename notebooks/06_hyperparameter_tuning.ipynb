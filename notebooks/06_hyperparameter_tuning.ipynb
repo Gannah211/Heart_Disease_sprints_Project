{
 "cells": [
  {
   "cell_type": "code",
   "execution_count": 6,
   "id": "90ce1d4c",
   "metadata": {},
   "outputs": [
    {
     "name": "stdout",
     "output_type": "stream",
     "text": [
      "Fitting 5 folds for each of 27 candidates, totalling 135 fits\n",
      "Best parameters for Random Forest:  {'max_depth': 5, 'min_samples_split': 10, 'n_estimators': 100}\n",
      "Best score:  0.5654255319148936\n",
      "Fitting 5 folds for each of 10 candidates, totalling 50 fits\n",
      "Best parameters for SVM:  {'kernel': 'linear', 'gamma': 'scale', 'C': 0.1}\n",
      "Best score:  0.5781914893617021\n"
     ]
    }
   ],
   "source": [
    "import pandas as pd \n",
    "from sklearn.model_selection import GridSearchCV, RandomizedSearchCV, train_test_split\n",
    "from sklearn.ensemble import RandomForestClassifier\n",
    "from sklearn.svm import SVC\n",
    "\n",
    "df = pd.read_csv(\"../data/heart_disease.csv\")\n",
    "x =df.drop('num',axis =1)\n",
    "y = df['num']\n",
    "\n",
    "x_train, x_test, y_train, y_test = train_test_split(x, y, test_size=0.2, random_state=42)\n",
    "\n",
    "rf = RandomForestClassifier(random_state=42)\n",
    "param_grid={\n",
    "    'n_estimators': [50, 100, 200],\n",
    "    'max_depth': [None, 5, 10],\n",
    "    'min_samples_split': [2, 5, 10]\n",
    "}\n",
    "\n",
    "grid_search = GridSearchCV(rf, param_grid, cv=5, scoring='accuracy', n_jobs=-1, verbose=1)\n",
    "grid_search.fit(x_train, y_train)\n",
    "print(\"Best parameters for Random Forest: \", grid_search.best_params_)\n",
    "print(\"Best score: \", grid_search.best_score_)\n",
    "\n",
    "svc = SVC(probability=True)\n",
    "param_dist = {\n",
    "    'C': [0.1,1, 10, 100],\n",
    "    'kernel' : ['linear','rbf','poly'],\n",
    "    'gamma' : ['scale','auto']\n",
    "}\n",
    "random_search = RandomizedSearchCV(svc, param_distributions=param_dist, n_iter=10, cv=5, scoring='accuracy', random_state=42, n_jobs=-1, verbose=1)\n",
    "random_search.fit(x_train, y_train)\n",
    "print(\"Best parameters for SVM: \", random_search.best_params_)\n",
    "print(\"Best score: \", random_search.best_score_)\n"
   ]
  }
 ],
 "metadata": {
  "kernelspec": {
   "display_name": "Python 3",
   "language": "python",
   "name": "python3"
  },
  "language_info": {
   "codemirror_mode": {
    "name": "ipython",
    "version": 3
   },
   "file_extension": ".py",
   "mimetype": "text/x-python",
   "name": "python",
   "nbconvert_exporter": "python",
   "pygments_lexer": "ipython3",
   "version": "3.12.1"
  }
 },
 "nbformat": 4,
 "nbformat_minor": 5
}

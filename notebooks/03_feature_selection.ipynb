{
 "cells": [
  {
   "cell_type": "code",
   "execution_count": null,
   "id": "596b6325",
   "metadata": {},
   "outputs": [
    {
     "name": "stdout",
     "output_type": "stream",
     "text": [
      "     Feature  Importance\n",
      "7    thalach    0.138926\n",
      "9    oldpeak    0.117851\n",
      "0        age    0.115244\n",
      "4       chol    0.113633\n",
      "3   trestbps    0.099319\n",
      "11        ca    0.094761\n",
      "12      thal    0.082430\n",
      "2         cp    0.075682\n",
      "8      exang    0.046423\n",
      "10     slope    0.042554\n",
      "6    restecg    0.029849\n",
      "1        sex    0.027128\n",
      "5        fbs    0.016198\n",
      "Selected Features by RFE:  Index(['age', 'trestbps', 'chol', 'thalach', 'oldpeak'], dtype='object')\n",
      "Selected Features by Chi-square:  Index(['exang', 'oldpeak', 'slope', 'ca', 'thal'], dtype='object')\n"
     ]
    },
    {
     "ename": "",
     "evalue": "",
     "output_type": "error",
     "traceback": [
      "\u001b[1;31mThe Kernel crashed while executing code in the current cell or a previous cell. \n",
      "\u001b[1;31mPlease review the code in the cell(s) to identify a possible cause of the failure. \n",
      "\u001b[1;31mClick <a href='https://aka.ms/vscodeJupyterKernelCrash'>here</a> for more info. \n",
      "\u001b[1;31mView Jupyter <a href='command:jupyter.viewOutput'>log</a> for further details."
     ]
    }
   ],
   "source": [
    "import pandas as pd\n",
    "from sklearn.ensemble import RandomForestClassifier\n",
    "from sklearn.feature_selection import RFE,chi2\n",
    "from sklearn.preprocessing import MinMaxScaler\n",
    "from sklearn.feature_selection import SelectKBest\n",
    "\n",
    "df = pd.read_csv(\"../data/heart_disease.csv\")\n",
    "x =df.drop('num',axis =1)\n",
    "y = df['num']\n",
    "\n",
    "model = RandomForestClassifier(random_state = 42)\n",
    "model.fit(x,y)\n",
    "importances = model.feature_importances_\n",
    "\n",
    "feature_importance_df = pd.DataFrame({\n",
    "    'Feature': x.columns,\n",
    "    'Importance': importances\n",
    "}).sort_values(by='Importance', ascending=False)\n",
    "print(feature_importance_df)\n",
    "\n",
    "rfe = RFE(estimator=RandomForestClassifier(), n_features_to_select=5)\n",
    "rfe.fit(x,y)\n",
    "print(\"Selected Features by RFE: \", x.columns[rfe.support_])\n",
    "\n",
    "scaler =MinMaxScaler()\n",
    "x_scaled = scaler.fit_transform(x)\n",
    "chi2_selector = SelectKBest(score_func=chi2, k=5)\n",
    "chi2_selector.fit(x_scaled, y)\n",
    "print(\"Selected Features by Chi-square: \", x.columns[chi2_selector.get_support()])"
   ]
  }
 ],
 "metadata": {
  "kernelspec": {
   "display_name": "Python 3",
   "language": "python",
   "name": "python3"
  },
  "language_info": {
   "codemirror_mode": {
    "name": "ipython",
    "version": 3
   },
   "file_extension": ".py",
   "mimetype": "text/x-python",
   "name": "python",
   "nbconvert_exporter": "python",
   "pygments_lexer": "ipython3",
   "version": "3.12.1"
  }
 },
 "nbformat": 4,
 "nbformat_minor": 5
}
